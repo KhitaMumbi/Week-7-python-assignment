
{
 "cells": [
  {
   "cell_type": "markdown",
   "metadata": {},
   "source": [
    "# Iris Dataset Analysis\n",
    "\n",
    "This notebook explores the Iris dataset by loading, cleaning, analyzing, and visualizing the data."
   ]
  },
  {
   "cell_type": "code",
   "execution_count": 1,
   "metadata": {},
   "outputs": [],
   "source": [
    "# Import libraries\n",
    "import pandas as pd\n",
    "import matplotlib.pyplot as plt\n",
    "import seaborn as sns\n",
    "\n",
    "# Load dataset\n",
    "df = pd.read_csv('iris.csv')"
   ]
  },
  {
   "cell_type": "code",
   "execution_count": 2,
   "metadata": {},
   "outputs": [
    {
     "ename": "NoneType",
     "evalue": "",
     "output_type": "execute_result",
     "data": {
      "text/plain": [
       "      sepal_length  sepal_width  petal_length  petal_width species\n",
       "0             5.1          3.5           1.4          0.2  setosa\n",
       "1             4.9          3.0           1.4          0.2  setosa\n",
       "2             4.7          3.2           1.3          0.2  setosa\n",
       "3             4.6          3.1           1.5          0.2  setosa\n",
       "4             5.0          3.6           1.4          0.2  setosa"
      ]
     },
     "metadata": {}
    }
   ],
   "source": [
    "# Display first few rows\n",
    "df.head()"
   ]
  },
  {
   "cell_type": "code",
   "execution_count": 3,
   "metadata": {},
   "outputs": [
    {
     "ename": "NoneType",
     "evalue": "",
     "output_type": "execute_result",
     "data": {
      "text/plain": [
       "sepal_length    float64\n",
       "sepal_width     float64\n",
       "petal_length    float64\n",
       "petal_width     float64\n",
       "species          object\n",
       "dtype: object"
      ]
     },
     "metadata": {}
    }
   ],
   "source": [
    "# Check data types\n",
    "df.dtypes"
   ]
  },
  {
   "cell_type": "code",
   "execution_count": 4,
   "metadata": {},
   "outputs": [
    {
     "ename": "NoneType",
     "evalue": "",
     "output_type": "execute_result",
     "data": {
      "text/plain": [
       "sepal_length    0\n",
       "sepal_width     0\n",
       "petal_length    0\n",
       "petal_width     0\n",
       "species         0\n",
       "dtype: int64"
      ]
     },
     "metadata": {}
    }
   ],
   "source": [
    "# Check missing values\n",
    "df.isnull().sum()"
   ]
  },
  {
   "cell_type": "markdown",
   "metadata": {},
   "source": [
    "No missing values detected, so no cleaning is necessary."
   ]
  },
  {
   "cell_type": "code",
   "execution_count": 5,
   "metadata": {},
   "outputs": [
    {
     "ename": "NoneType",
     "evalue": "",
     "output_type": "execute_result",
     "data": {
      "text/plain": [
       "       sepal_length  sepal_width  petal_length  petal_width\n",
       "count    150.000000   150.000000    150.000000   150.000000\n",
       "mean       5.843333     3.057333      3.758000     1.199333\n",
       "std        0.828066     0.435866      1.765298     0.762238\n",
       "min        4.300000     2.000000      1.000000     0.100000\n",
       "25%        5.100000     2.800000      1.600000     0.300000\n",
       "50%        5.800000     3.000000      4.350000     1.300000\n",
       "75%        6.400000     3.300000      5.100000     1.800000\n",
       "max        7.900000     4.400000      6.900000     2.500000"
      ]
     },
     "metadata": {}
    }
   ],
   "source": [
    "# Summary statistics\n",
    "df.describe()"
   ]
  },
  {
   "cell_type": "code",
   "execution_count": 6,
   "metadata": {},
   "outputs": [
    {
     "ename": "NoneType",
     "evalue": "",
     "output_type": "execute_result",
     "data": {
      "text/plain": [
       "species\n",
       "setosa        1.462\n",
       "versicolor    4.260\n",
       "virginica     5.552\n",
       "Name: petal_length, dtype: float64"
      ]
     },
     "metadata": {}
    }
   ],
   "source": [
    "# Group by species, average petal length\n",
    "df.groupby('species')['petal_length'].mean()"
   ]
  },
  {
   "cell_type": "markdown",
   "metadata": {},
   "source": [
    "## Visualizations"
   ]
  },
  {
   "cell_type": "code",
   "execution_count": 7,
   "metadata": {},
   "outputs": [],
   "source": [
    "import matplotlib.pyplot as plt\n",
    "import seaborn as sns\n",
    "\n",
    "plt.figure(figsize=(14, 10))\n",
    "\n",
    "# Line chart: Cumulative petal length\n",
    "df['petal_length_cumsum'] = df['petal_length'].cumsum()\n",
    "plt.subplot(2, 2, 1)\n",
    "plt.plot(df.index, df['petal_length_cumsum'], label='Cumulative Petal Length')\n",
    "plt.title('Line Chart: Cumulative Petal Length')\n",
    "plt.xlabel('Index')\n",
    "plt.ylabel('Cumulative Petal Length')\n",
    "plt.legend()\n",
    "\n",
    "# Bar chart: Average petal length per species\n",
    "plt.subplot(2, 2, 2)\n",
    "sns.barplot(x='species', y='petal_length', data=df)\n",
    "plt.title('Bar Chart: Avg Petal Length by Species')\n",
    "plt.xlabel('Species')\n",
    "plt.ylabel('Average Petal Length')\n",
    "\n",
    "# Histogram: Sepal length distribution\n",
    "plt.subplot(2, 2, 3)\n",
    "plt.hist(df['sepal_length'], bins=10, color='skyblue', edgecolor='black')\n",
    "plt.title('Histogram: Sepal Length')\n",
    "plt.xlabel('Sepal Length')\n",
    "plt.ylabel('Frequency')\n",
    "\n",
    "# Scatter plot: Sepal length vs Petal length\n",
    "plt.subplot(2, 2, 4)\n",
    "sns.scatterplot(data=df, x='sepal_length', y='petal_length', hue='species')\n",
    "plt.title('Scatter Plot: Sepal vs Petal Length')\n",
    "plt.xlabel('Sepal Length')\n",
    "plt.ylabel('Petal Length')\n",
    "\n",
    "plt.tight_layout()\n",
    "plt.show()"
   ]
  },
  {
   "cell_type": "markdown",
   "metadata": {},
   "source": [
    "### Observations:\n",
    "- The cumulative petal length shows a steady increase.\n",
    "- Average petal length varies significantly between species.\n",
    "- Sepal length distribution is roughly normal.\n",
    "- There is a positive correlation between sepal length and petal length, varying by species."
   ]
  }
 ],
 "metadata": {
  "kernelspec": {
   "display_name": "Python 3",
   "language": "python",
   "name": "python3"
  },
  "language_info": {
   "name": "python",
   "version": "3.10"
  }
 },
 "nbformat": 4,
 "nbformat
